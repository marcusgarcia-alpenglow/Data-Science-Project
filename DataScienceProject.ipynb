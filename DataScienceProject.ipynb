{
  "metadata": {
    "kernelspec": {
      "name": "python",
      "display_name": "Python (Pyodide)",
      "language": "python"
    },
    "language_info": {
      "codemirror_mode": {
        "name": "python",
        "version": 3
      },
      "file_extension": ".py",
      "mimetype": "text/x-python",
      "name": "python",
      "nbconvert_exporter": "python",
      "pygments_lexer": "ipython3",
      "version": "3.8"
    }
  },
  "nbformat_minor": 4,
  "nbformat": 4,
  "cells": [
    {
      "cell_type": "markdown",
      "source": "# Data Science Final Project\n",
      "metadata": {}
    },
    {
      "cell_type": "markdown",
      "source": "## Introduction\nThis notebook contains exercises related to data science concepts and practical examples.\n",
      "metadata": {}
    },
    {
      "cell_type": "markdown",
      "source": "## Data Science Languages\n- Python\n- R\n- SQL\n- Julia\n- Scala\n\n## Data Science Libraries\n- Pandas\n- NumPy\n- Matplotlib\n- Seaborn\n- Scikit-learn\n- TensorFlow\n- Keras\n\n## Data Science Tools\n| Tool           | Description                         |\n|----------------|-------------------------------------|\n| Jupyter        | Interactive computing environment   |\n| RStudio        | IDE for R                           |\n| Apache Hadoop  | Big data processing framework       |\n| Apache Spark   | Unified analytics engine            |\n| TensorFlow     | Machine learning library            |\n\n## Arithmetic Expression Examples\nBelow are examples of simple arithmetic operations.\n\n",
      "metadata": {}
    },
    {
      "cell_type": "code",
      "source": "# Multiplication and addition\na = 5\nb = 4\nresult = a * b + b\nresult",
      "metadata": {
        "trusted": true
      },
      "outputs": [
        {
          "execution_count": 4,
          "output_type": "execute_result",
          "data": {
            "text/plain": "24"
          },
          "metadata": {}
        }
      ],
      "execution_count": 4
    },
    {
      "cell_type": "code",
      "source": "# Convert minutes to hours\nminutes = 120\nhours = minutes / 60\nhours",
      "metadata": {
        "trusted": true
      },
      "outputs": [
        {
          "execution_count": 5,
          "output_type": "execute_result",
          "data": {
            "text/plain": "2.0"
          },
          "metadata": {}
        }
      ],
      "execution_count": 5
    },
    {
      "cell_type": "markdown",
      "source": "## Objectives\n- Learn about data science languages\n- Explore data science libraries\n- Understand data science tools\n- Perform arithmetic operations in Python\n- Convert time units using Python\n## Author\nMarcus Garcia",
      "metadata": {}
    }
  ]
}